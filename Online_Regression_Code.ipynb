{
 "cells": [
  {
   "cell_type": "markdown",
   "id": "543326ff",
   "metadata": {},
   "source": [
    "# Main code for online regression on Jupyter notebooks"
   ]
  },
  {
   "cell_type": "markdown",
   "id": "a1d25211",
   "metadata": {},
   "source": [
    "About: predicting the beer consumation of the Brazilian population\n",
    "\n",
    "Related files:\n",
    "\n",
    "Instructions:"
   ]
  },
  {
   "cell_type": "code",
   "execution_count": 4,
   "id": "d7b88a3e",
   "metadata": {},
   "outputs": [],
   "source": [
    "# Preparar o Dataset de treinamento do modelo inicial OK\n",
    "# Preparar o Dataset para treinamentos extrasOK\n",
    "# Salvar cada um em Arquivo do Excel OK\n",
    "# Preparar arquivo excel para suporte de variáveis\n",
    "data_in = 0\n",
    "# preparar arquivo do excel para Dataset outlyers"
   ]
  },
  {
   "cell_type": "code",
   "execution_count": 12,
   "id": "3ce0d4f2",
   "metadata": {},
   "outputs": [],
   "source": [
    "# Downloads\n",
    "# import ...\n",
    "import matplotlib.pyplot as plt\n",
    "%matplotlib inline\n",
    "from sklearn.model_selection import train_test_split\n",
    "from sklearn.linear_model import LinearRegression\n",
    "from sklearn import metrics\n",
    "import pandas as pd\n",
    "import numpy as np\n",
    "import seaborn as sns\n",
    "import pickle\n",
    "from ipywidgets import widgets, HBox, VBox\n",
    "from IPython.display import display\n",
    "from IPython.display import clear_output\n",
    "\n",
    "# Read Dataset renda\n",
    "beer_data_to_train = pd.read_csv(\"beer_data_train\", sep = ',')\n",
    "# Read Dataset variáveis\n",
    "beer_data_update = pd.read_csv(\"beer_data_update\", sep = ',')\n",
    "\n",
    "accumulated_cases = 0\n",
    "temp_data = pd.DataFrame(data=None, columns=beer_data_to_train.columns, index=None) \n"
   ]
  },
  {
   "cell_type": "code",
   "execution_count": null,
   "id": "1fbf459a",
   "metadata": {},
   "outputs": [],
   "source": []
  },
  {
   "cell_type": "code",
   "execution_count": 6,
   "id": "869e38f3",
   "metadata": {},
   "outputs": [
    {
     "name": "stdout",
     "output_type": "stream",
     "text": [
      "R² for training data = 0.711\n",
      "R² for tested data = 0.772\n"
     ]
    }
   ],
   "source": [
    "# Criação do modelo\n",
    "# Cria modelo\n",
    "model_main = LinearRegression()\n",
    "# Prepara Dataset de Treino\n",
    "y = beer_data_to_train['consumo']\n",
    "X = beer_data_to_train[['temp_max', 'chuva', 'fds']]\n",
    "X_train, X_test, y_train, y_test = train_test_split(X, y, test_size=0.3, random_state=2811)\n",
    "# Treina o modelo\n",
    "model_main.fit(X_train, y_train)\n",
    "# Testa o modelo\n",
    "y_predicted = model_main.predict(X_test)\n",
    "print('R² for training data = {}'.format(model_main.score(X_train, y_train).round(3)))\n",
    "R_model = metrics.r2_score(y_test, y_predicted)\n",
    "print('R² for tested data = %s' %R_model.round(3))\n",
    "# Salva o modelo\n",
    "output = open('beer_consumption_model', 'wb') #cria o arquivo\n",
    "pickle.dump(model_main, output) #salva o modelo no arquivo\n",
    "output.close()"
   ]
  },
  {
   "cell_type": "code",
   "execution_count": null,
   "id": "a454070f",
   "metadata": {},
   "outputs": [],
   "source": []
  },
  {
   "cell_type": "code",
   "execution_count": 7,
   "id": "9e069701",
   "metadata": {},
   "outputs": [],
   "source": [
    "# Button 1\n",
    "# Opção de digitar 1 caso para o modelo prever\n",
    "temp_max1 = widgets.Text(description=\"Max Temp\")\n",
    "rain1 = widgets.Text(description=\"Rain\")\n",
    "weekend1 = widgets.Text(description=\"Weekend\")\n",
    "button1 = widgets.Button(description=\"Predict\")\n",
    "\n",
    "def simulator1(sender):\n",
    "    entry=[[\n",
    "                float(temp_max1.value if temp_max1.value else 0), \n",
    "                float(rain1.value if rain1.value else 0), \n",
    "                float(weekend1.value if weekend1.value else 0)                \n",
    "             ]]\n",
    "    print('{0:.2f} liters'.format(model_main.predict(entry)[0]))\n",
    "\n",
    "top = VBox([temp_max1, rain1, weekend1])\n",
    "button1.on_click(simulator1) \n",
    "top1 = HBox([top, button1])"
   ]
  },
  {
   "cell_type": "code",
   "execution_count": 18,
   "id": "7cabd34a",
   "metadata": {},
   "outputs": [
    {
     "ename": "SyntaxError",
     "evalue": "invalid syntax (Temp/ipykernel_17944/2749676426.py, line 2)",
     "output_type": "error",
     "traceback": [
      "\u001b[1;36m  File \u001b[1;32m\"C:\\Users\\CESAR~1.NOR\\AppData\\Local\\Temp/ipykernel_17944/2749676426.py\"\u001b[1;36m, line \u001b[1;32m2\u001b[0m\n\u001b[1;33m    clear cell output\u001b[0m\n\u001b[1;37m          ^\u001b[0m\n\u001b[1;31mSyntaxError\u001b[0m\u001b[1;31m:\u001b[0m invalid syntax\n"
     ]
    }
   ],
   "source": [
    "# Button 2\n",
    "temp_max2 = widgets.Text(description=\"Max Temp\")\n",
    "rain2 = widgets.Text(description=\"Rain\")\n",
    "weekend2 = widgets.Text(description=\"Weekend\")\n",
    "beer = widgets.Text(description=\"Sold beer\")\n",
    "button2 = widgets.Button(description=\"Add new data\")\n",
    "\n",
    "def simulator2(sender):\n",
    "    global accumulated_cases, model_main, R_model, beer_data_to_train, temp_data\n",
    "    entry=[[\n",
    "                float(temp_max2.value if temp_max2.value else 0), \n",
    "                float(rain2.value if rain2.value else 0), \n",
    "                float(weekend2.value if weekend2.value else 0),\n",
    "                float(beer.value if beer.value else 0)\n",
    "             ]]\n",
    "    data_entry = pd.DataFrame(data=entry, columns=temp_data.columns, index=None) \n",
    "    temp_data = temp_data.append(data_entry)\n",
    "    accumulated_cases += 1 \n",
    "    print(\"Data to update on the model:\")\n",
    "    print(temp_data)\n",
    "    #print(temp_data)\n",
    "    #print(data_entry)\n",
    "    if accumulated_cases >= 3:\n",
    "        [model_main, R_model] = retrain(beer_data_to_train,temp_data)\n",
    "        temp_data = pd.DataFrame(data=None, columns=beer_data_to_train.columns, index=None) \n",
    "        accumulated_cases = 0\n",
    "     \n",
    "middle = VBox([temp_max2, rain2, weekend2, beer])\n",
    "button2.on_click(simulator2) \n",
    "middle1 = HBox([middle,button2])\n"
   ]
  },
  {
   "cell_type": "code",
   "execution_count": 9,
   "id": "10c8559c",
   "metadata": {},
   "outputs": [],
   "source": [
    "# Button3 add3 (adiciona 3 casos do outro dataset, e treina novamente)\n",
    "button3 = widgets.Button(description=\"3 new cases\")\n",
    "\n",
    "#def simulator3(sender):\n",
    "    #Retreina\n",
    "    \n",
    "#button3.on_click(simulator3) \n"
   ]
  },
  {
   "cell_type": "code",
   "execution_count": 17,
   "id": "c8bf04ec",
   "metadata": {},
   "outputs": [
    {
     "data": {
      "application/vnd.jupyter.widget-view+json": {
       "model_id": "cba502f62ac14765b452d33f9d22700b",
       "version_major": 2,
       "version_minor": 0
      },
      "text/plain": [
       "VBox(children=(HBox(children=(VBox(children=(Text(value='', description='Max Temp'), Text(value='', descriptio…"
      ]
     },
     "metadata": {},
     "output_type": "display_data"
    },
    {
     "data": {
      "application/vnd.jupyter.widget-view+json": {
       "model_id": "81a677a0f3ce4737a8bfed5cf03eb68d",
       "version_major": 2,
       "version_minor": 0
      },
      "text/plain": [
       "VBox(children=(HBox(children=(VBox(children=(Text(value='', description='Max Temp'), Text(value='', descriptio…"
      ]
     },
     "metadata": {},
     "output_type": "display_data"
    },
    {
     "name": "stdout",
     "output_type": "stream",
     "text": [
      "Data to update on the model:\n",
      "   temp_max  chuva  fds  consumo\n",
      "0       0.0    0.0  0.0      0.0\n",
      "0       0.0    0.0  0.0      0.0\n",
      "Data to update on the model:\n",
      "   temp_max  chuva  fds  consumo\n",
      "0       0.0    0.0  0.0      0.0\n",
      "0       0.0    0.0  0.0      0.0\n",
      "0       0.0    0.0  0.0      0.0\n",
      "Training new model...\n",
      "testing new model...\n",
      "The New model isnt a better model, discarting changings\n"
     ]
    }
   ],
   "source": [
    "# Display\n",
    "inputs1 = VBox([top1])\n",
    "inputs2 = VBox([middle1])\n",
    "\n",
    "display(inputs1, inputs2)#, button3)"
   ]
  },
  {
   "cell_type": "code",
   "execution_count": 19,
   "id": "443f1bb0",
   "metadata": {},
   "outputs": [],
   "source": [
    "# Retreinar modelo\n",
    "def retrain(df1,df2):\n",
    "    global model_main, R_model\n",
    "    print('Training new model...')\n",
    "    beer_data_temp = df1.append(df2)\n",
    "    # Cria modelo2\n",
    "    model_temp = LinearRegression()\n",
    "    # treina modelo2\n",
    "    y2 = beer_data_temp['consumo']\n",
    "    X2 = beer_data_temp[['temp_max', 'chuva', 'fds']]\n",
    "    X2_train, X2_test, y2_train, y2_test = train_test_split(X2, y2, test_size=0.3, random_state=2811)\n",
    "    model_temp.fit(X2_train, y2_train)\n",
    "    # compara resultado modelo2 com modelo1, e se melhor\n",
    "    # substitui modelo1, se pior, coloca os dados na planilha 3\n",
    "    print('testing new model...')\n",
    "    y2_predicted = model_temp.predict(X2_test)\n",
    "    \n",
    "    R_temp = metrics.r2_score(y2_test, y2_predicted)\n",
    "    \n",
    "    if R_temp > R_model:\n",
    "        print('We trained a new model with the data, the new R2 is {0:.2f}'.format(R_model.round(4)))\n",
    "        R_model, model_main  = R_temp, model_temp\n",
    "    else:\n",
    "        print('The New model isnt a better model, discarting changings')\n",
    "        #Mantem o mesmo modelo, manda os dados para uma coluna de outlyers\n",
    "    return [model_main, R_model]"
   ]
  },
  {
   "cell_type": "code",
   "execution_count": null,
   "id": "80d1f87e",
   "metadata": {},
   "outputs": [],
   "source": []
  },
  {
   "cell_type": "code",
   "execution_count": null,
   "id": "362b8621",
   "metadata": {},
   "outputs": [],
   "source": []
  }
 ],
 "metadata": {
  "kernelspec": {
   "display_name": "Python 3 (ipykernel)",
   "language": "python",
   "name": "python3"
  },
  "language_info": {
   "codemirror_mode": {
    "name": "ipython",
    "version": 3
   },
   "file_extension": ".py",
   "mimetype": "text/x-python",
   "name": "python",
   "nbconvert_exporter": "python",
   "pygments_lexer": "ipython3",
   "version": "3.8.8"
  }
 },
 "nbformat": 4,
 "nbformat_minor": 5
}
